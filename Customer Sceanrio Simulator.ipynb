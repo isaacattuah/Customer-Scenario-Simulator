{
  "nbformat": 4,
  "nbformat_minor": 0,
  "metadata": {
    "colab": {
      "provenance": []
    },
    "kernelspec": {
      "name": "python3",
      "display_name": "Python 3"
    },
    "language_info": {
      "name": "python"
    }
  },
  "cells": [
    {
      "cell_type": "markdown",
      "source": [
        "# Authenticate"
      ],
      "metadata": {
        "id": "WXnnm88V767K"
      }
    },
    {
      "cell_type": "code",
      "source": [
        "from google.colab import auth\n",
        "auth.authenticate_user()\n"
      ],
      "metadata": {
        "id": "iQLc8v5O8B4j"
      },
      "execution_count": null,
      "outputs": []
    },
    {
      "cell_type": "code",
      "source": [
        "PROJECT_ID = '<GCP-PROJECT-ID>'\n",
        "REGION = '<GCP-REGION>'\n",
        "BUCKET = '<GCP-BUCKET>'\n",
        "FILENAME_TXT = '<FILENAME-TXT>'\n",
        "FILENAME_PDF = '<FILENAME-PDF>'\n"
      ],
      "metadata": {
        "id": "7Z8lYrsKDPHW"
      },
      "execution_count": null,
      "outputs": []
    },
    {
      "cell_type": "markdown",
      "source": [
        "# Install Dependencies"
      ],
      "metadata": {
        "id": "CB0uXzT_XFEV"
      }
    },
    {
      "cell_type": "code",
      "execution_count": null,
      "metadata": {
        "colab": {
          "base_uri": "https://localhost:8080/",
          "height": 1000
        },
        "id": "1CTRTKyicPe1",
        "outputId": "f088c0fd-0323-495f-8aff-d6e814e1bb7b"
      },
      "outputs": [
        {
          "output_type": "stream",
          "name": "stdout",
          "text": [
            "Requirement already satisfied: shapely in /usr/local/lib/python3.10/dist-packages (2.0.1)\n",
            "Requirement already satisfied: numpy>=1.14 in /usr/local/lib/python3.10/dist-packages (from shapely) (1.22.4)\n",
            "Collecting google-cloud-aiplatform\n",
            "  Downloading google_cloud_aiplatform-1.28.1-py2.py3-none-any.whl (2.7 MB)\n",
            "\u001b[2K     \u001b[90m━━━━━━━━━━━━━━━━━━━━━━━━━━━━━━━━━━━━━━━━\u001b[0m \u001b[32m2.7/2.7 MB\u001b[0m \u001b[31m27.4 MB/s\u001b[0m eta \u001b[36m0:00:00\u001b[0m\n",
            "\u001b[?25hRequirement already satisfied: google-api-core[grpc]!=2.0.*,!=2.1.*,!=2.2.*,!=2.3.*,!=2.4.*,!=2.5.*,!=2.6.*,!=2.7.*,<3.0.0dev,>=1.32.0 in /usr/local/lib/python3.10/dist-packages (from google-cloud-aiplatform) (2.11.1)\n",
            "Requirement already satisfied: proto-plus<2.0.0dev,>=1.22.0 in /usr/local/lib/python3.10/dist-packages (from google-cloud-aiplatform) (1.22.3)\n",
            "Requirement already satisfied: protobuf!=3.20.0,!=3.20.1,!=4.21.0,!=4.21.1,!=4.21.2,!=4.21.3,!=4.21.4,!=4.21.5,<5.0.0dev,>=3.19.5 in /usr/local/lib/python3.10/dist-packages (from google-cloud-aiplatform) (3.20.3)\n",
            "Requirement already satisfied: packaging>=14.3 in /usr/local/lib/python3.10/dist-packages (from google-cloud-aiplatform) (23.1)\n",
            "Requirement already satisfied: google-cloud-storage<3.0.0dev,>=1.32.0 in /usr/local/lib/python3.10/dist-packages (from google-cloud-aiplatform) (2.8.0)\n",
            "Requirement already satisfied: google-cloud-bigquery<4.0.0dev,>=1.15.0 in /usr/local/lib/python3.10/dist-packages (from google-cloud-aiplatform) (3.10.0)\n",
            "Collecting google-cloud-resource-manager<3.0.0dev,>=1.3.3 (from google-cloud-aiplatform)\n",
            "  Downloading google_cloud_resource_manager-1.10.2-py2.py3-none-any.whl (321 kB)\n",
            "\u001b[2K     \u001b[90m━━━━━━━━━━━━━━━━━━━━━━━━━━━━━━━━━━━━━━\u001b[0m \u001b[32m321.3/321.3 kB\u001b[0m \u001b[31m33.2 MB/s\u001b[0m eta \u001b[36m0:00:00\u001b[0m\n",
            "\u001b[?25hCollecting shapely<2.0.0 (from google-cloud-aiplatform)\n",
            "  Downloading Shapely-1.8.5.post1-cp310-cp310-manylinux_2_12_x86_64.manylinux2010_x86_64.whl (2.0 MB)\n",
            "\u001b[2K     \u001b[90m━━━━━━━━━━━━━━━━━━━━━━━━━━━━━━━━━━━━━━━━\u001b[0m \u001b[32m2.0/2.0 MB\u001b[0m \u001b[31m101.2 MB/s\u001b[0m eta \u001b[36m0:00:00\u001b[0m\n",
            "\u001b[?25hRequirement already satisfied: googleapis-common-protos<2.0.dev0,>=1.56.2 in /usr/local/lib/python3.10/dist-packages (from google-api-core[grpc]!=2.0.*,!=2.1.*,!=2.2.*,!=2.3.*,!=2.4.*,!=2.5.*,!=2.6.*,!=2.7.*,<3.0.0dev,>=1.32.0->google-cloud-aiplatform) (1.59.1)\n",
            "Requirement already satisfied: google-auth<3.0.dev0,>=2.14.1 in /usr/local/lib/python3.10/dist-packages (from google-api-core[grpc]!=2.0.*,!=2.1.*,!=2.2.*,!=2.3.*,!=2.4.*,!=2.5.*,!=2.6.*,!=2.7.*,<3.0.0dev,>=1.32.0->google-cloud-aiplatform) (2.17.3)\n",
            "Requirement already satisfied: requests<3.0.0.dev0,>=2.18.0 in /usr/local/lib/python3.10/dist-packages (from google-api-core[grpc]!=2.0.*,!=2.1.*,!=2.2.*,!=2.3.*,!=2.4.*,!=2.5.*,!=2.6.*,!=2.7.*,<3.0.0dev,>=1.32.0->google-cloud-aiplatform) (2.27.1)\n",
            "Requirement already satisfied: grpcio<2.0dev,>=1.33.2 in /usr/local/lib/python3.10/dist-packages (from google-api-core[grpc]!=2.0.*,!=2.1.*,!=2.2.*,!=2.3.*,!=2.4.*,!=2.5.*,!=2.6.*,!=2.7.*,<3.0.0dev,>=1.32.0->google-cloud-aiplatform) (1.56.2)\n",
            "Requirement already satisfied: grpcio-status<2.0.dev0,>=1.33.2 in /usr/local/lib/python3.10/dist-packages (from google-api-core[grpc]!=2.0.*,!=2.1.*,!=2.2.*,!=2.3.*,!=2.4.*,!=2.5.*,!=2.6.*,!=2.7.*,<3.0.0dev,>=1.32.0->google-cloud-aiplatform) (1.48.2)\n",
            "Requirement already satisfied: google-cloud-core<3.0.0dev,>=1.6.0 in /usr/local/lib/python3.10/dist-packages (from google-cloud-bigquery<4.0.0dev,>=1.15.0->google-cloud-aiplatform) (2.3.3)\n",
            "Requirement already satisfied: google-resumable-media<3.0dev,>=0.6.0 in /usr/local/lib/python3.10/dist-packages (from google-cloud-bigquery<4.0.0dev,>=1.15.0->google-cloud-aiplatform) (2.5.0)\n",
            "Requirement already satisfied: python-dateutil<3.0dev,>=2.7.2 in /usr/local/lib/python3.10/dist-packages (from google-cloud-bigquery<4.0.0dev,>=1.15.0->google-cloud-aiplatform) (2.8.2)\n",
            "Requirement already satisfied: grpc-google-iam-v1<1.0.0dev,>=0.12.4 in /usr/local/lib/python3.10/dist-packages (from google-cloud-resource-manager<3.0.0dev,>=1.3.3->google-cloud-aiplatform) (0.12.6)\n",
            "Requirement already satisfied: cachetools<6.0,>=2.0.0 in /usr/local/lib/python3.10/dist-packages (from google-auth<3.0.dev0,>=2.14.1->google-api-core[grpc]!=2.0.*,!=2.1.*,!=2.2.*,!=2.3.*,!=2.4.*,!=2.5.*,!=2.6.*,!=2.7.*,<3.0.0dev,>=1.32.0->google-cloud-aiplatform) (5.3.1)\n",
            "Requirement already satisfied: pyasn1-modules>=0.2.1 in /usr/local/lib/python3.10/dist-packages (from google-auth<3.0.dev0,>=2.14.1->google-api-core[grpc]!=2.0.*,!=2.1.*,!=2.2.*,!=2.3.*,!=2.4.*,!=2.5.*,!=2.6.*,!=2.7.*,<3.0.0dev,>=1.32.0->google-cloud-aiplatform) (0.3.0)\n",
            "Requirement already satisfied: six>=1.9.0 in /usr/local/lib/python3.10/dist-packages (from google-auth<3.0.dev0,>=2.14.1->google-api-core[grpc]!=2.0.*,!=2.1.*,!=2.2.*,!=2.3.*,!=2.4.*,!=2.5.*,!=2.6.*,!=2.7.*,<3.0.0dev,>=1.32.0->google-cloud-aiplatform) (1.16.0)\n",
            "Requirement already satisfied: rsa<5,>=3.1.4 in /usr/local/lib/python3.10/dist-packages (from google-auth<3.0.dev0,>=2.14.1->google-api-core[grpc]!=2.0.*,!=2.1.*,!=2.2.*,!=2.3.*,!=2.4.*,!=2.5.*,!=2.6.*,!=2.7.*,<3.0.0dev,>=1.32.0->google-cloud-aiplatform) (4.9)\n",
            "Requirement already satisfied: google-crc32c<2.0dev,>=1.0 in /usr/local/lib/python3.10/dist-packages (from google-resumable-media<3.0dev,>=0.6.0->google-cloud-bigquery<4.0.0dev,>=1.15.0->google-cloud-aiplatform) (1.5.0)\n",
            "Requirement already satisfied: urllib3<1.27,>=1.21.1 in /usr/local/lib/python3.10/dist-packages (from requests<3.0.0.dev0,>=2.18.0->google-api-core[grpc]!=2.0.*,!=2.1.*,!=2.2.*,!=2.3.*,!=2.4.*,!=2.5.*,!=2.6.*,!=2.7.*,<3.0.0dev,>=1.32.0->google-cloud-aiplatform) (1.26.16)\n",
            "Requirement already satisfied: certifi>=2017.4.17 in /usr/local/lib/python3.10/dist-packages (from requests<3.0.0.dev0,>=2.18.0->google-api-core[grpc]!=2.0.*,!=2.1.*,!=2.2.*,!=2.3.*,!=2.4.*,!=2.5.*,!=2.6.*,!=2.7.*,<3.0.0dev,>=1.32.0->google-cloud-aiplatform) (2023.7.22)\n",
            "Requirement already satisfied: charset-normalizer~=2.0.0 in /usr/local/lib/python3.10/dist-packages (from requests<3.0.0.dev0,>=2.18.0->google-api-core[grpc]!=2.0.*,!=2.1.*,!=2.2.*,!=2.3.*,!=2.4.*,!=2.5.*,!=2.6.*,!=2.7.*,<3.0.0dev,>=1.32.0->google-cloud-aiplatform) (2.0.12)\n",
            "Requirement already satisfied: idna<4,>=2.5 in /usr/local/lib/python3.10/dist-packages (from requests<3.0.0.dev0,>=2.18.0->google-api-core[grpc]!=2.0.*,!=2.1.*,!=2.2.*,!=2.3.*,!=2.4.*,!=2.5.*,!=2.6.*,!=2.7.*,<3.0.0dev,>=1.32.0->google-cloud-aiplatform) (3.4)\n",
            "Requirement already satisfied: pyasn1<0.6.0,>=0.4.6 in /usr/local/lib/python3.10/dist-packages (from pyasn1-modules>=0.2.1->google-auth<3.0.dev0,>=2.14.1->google-api-core[grpc]!=2.0.*,!=2.1.*,!=2.2.*,!=2.3.*,!=2.4.*,!=2.5.*,!=2.6.*,!=2.7.*,<3.0.0dev,>=1.32.0->google-cloud-aiplatform) (0.5.0)\n",
            "Installing collected packages: shapely, google-cloud-resource-manager, google-cloud-aiplatform\n",
            "  Attempting uninstall: shapely\n",
            "    Found existing installation: shapely 2.0.1\n",
            "    Uninstalling shapely-2.0.1:\n",
            "      Successfully uninstalled shapely-2.0.1\n",
            "Successfully installed google-cloud-aiplatform-1.28.1 google-cloud-resource-manager-1.10.2 shapely-1.8.5.post1\n"
          ]
        },
        {
          "output_type": "display_data",
          "data": {
            "application/vnd.colab-display-data+json": {
              "pip_warning": {
                "packages": [
                  "google"
                ]
              }
            }
          },
          "metadata": {}
        },
        {
          "output_type": "stream",
          "name": "stdout",
          "text": [
            "Requirement already satisfied: google-cloud-storage in /usr/local/lib/python3.10/dist-packages (2.8.0)\n",
            "Collecting google-cloud-storage\n",
            "  Downloading google_cloud_storage-2.10.0-py2.py3-none-any.whl (114 kB)\n",
            "\u001b[2K     \u001b[90m━━━━━━━━━━━━━━━━━━━━━━━━━━━━━━━━━━━━━━━\u001b[0m \u001b[32m114.6/114.6 kB\u001b[0m \u001b[31m2.9 MB/s\u001b[0m eta \u001b[36m0:00:00\u001b[0m\n",
            "\u001b[?25hRequirement already satisfied: google-auth<3.0dev,>=1.25.0 in /usr/local/lib/python3.10/dist-packages (from google-cloud-storage) (2.17.3)\n",
            "Requirement already satisfied: google-api-core!=2.0.*,!=2.1.*,!=2.2.*,!=2.3.0,<3.0.0dev,>=1.31.5 in /usr/local/lib/python3.10/dist-packages (from google-cloud-storage) (2.11.1)\n",
            "Requirement already satisfied: google-cloud-core<3.0dev,>=2.3.0 in /usr/local/lib/python3.10/dist-packages (from google-cloud-storage) (2.3.3)\n",
            "Requirement already satisfied: google-resumable-media>=2.3.2 in /usr/local/lib/python3.10/dist-packages (from google-cloud-storage) (2.5.0)\n",
            "Requirement already satisfied: requests<3.0.0dev,>=2.18.0 in /usr/local/lib/python3.10/dist-packages (from google-cloud-storage) (2.27.1)\n",
            "Requirement already satisfied: googleapis-common-protos<2.0.dev0,>=1.56.2 in /usr/local/lib/python3.10/dist-packages (from google-api-core!=2.0.*,!=2.1.*,!=2.2.*,!=2.3.0,<3.0.0dev,>=1.31.5->google-cloud-storage) (1.59.1)\n",
            "Requirement already satisfied: protobuf!=3.20.0,!=3.20.1,!=4.21.0,!=4.21.1,!=4.21.2,!=4.21.3,!=4.21.4,!=4.21.5,<5.0.0.dev0,>=3.19.5 in /usr/local/lib/python3.10/dist-packages (from google-api-core!=2.0.*,!=2.1.*,!=2.2.*,!=2.3.0,<3.0.0dev,>=1.31.5->google-cloud-storage) (3.20.3)\n",
            "Requirement already satisfied: cachetools<6.0,>=2.0.0 in /usr/local/lib/python3.10/dist-packages (from google-auth<3.0dev,>=1.25.0->google-cloud-storage) (5.3.1)\n",
            "Requirement already satisfied: pyasn1-modules>=0.2.1 in /usr/local/lib/python3.10/dist-packages (from google-auth<3.0dev,>=1.25.0->google-cloud-storage) (0.3.0)\n",
            "Requirement already satisfied: six>=1.9.0 in /usr/local/lib/python3.10/dist-packages (from google-auth<3.0dev,>=1.25.0->google-cloud-storage) (1.16.0)\n",
            "Requirement already satisfied: rsa<5,>=3.1.4 in /usr/local/lib/python3.10/dist-packages (from google-auth<3.0dev,>=1.25.0->google-cloud-storage) (4.9)\n",
            "Requirement already satisfied: google-crc32c<2.0dev,>=1.0 in /usr/local/lib/python3.10/dist-packages (from google-resumable-media>=2.3.2->google-cloud-storage) (1.5.0)\n",
            "Requirement already satisfied: urllib3<1.27,>=1.21.1 in /usr/local/lib/python3.10/dist-packages (from requests<3.0.0dev,>=2.18.0->google-cloud-storage) (1.26.16)\n",
            "Requirement already satisfied: certifi>=2017.4.17 in /usr/local/lib/python3.10/dist-packages (from requests<3.0.0dev,>=2.18.0->google-cloud-storage) (2023.7.22)\n",
            "Requirement already satisfied: charset-normalizer~=2.0.0 in /usr/local/lib/python3.10/dist-packages (from requests<3.0.0dev,>=2.18.0->google-cloud-storage) (2.0.12)\n",
            "Requirement already satisfied: idna<4,>=2.5 in /usr/local/lib/python3.10/dist-packages (from requests<3.0.0dev,>=2.18.0->google-cloud-storage) (3.4)\n",
            "Requirement already satisfied: pyasn1<0.6.0,>=0.4.6 in /usr/local/lib/python3.10/dist-packages (from pyasn1-modules>=0.2.1->google-auth<3.0dev,>=1.25.0->google-cloud-storage) (0.5.0)\n",
            "Installing collected packages: google-cloud-storage\n",
            "  Attempting uninstall: google-cloud-storage\n",
            "    Found existing installation: google-cloud-storage 2.8.0\n",
            "    Uninstalling google-cloud-storage-2.8.0:\n",
            "      Successfully uninstalled google-cloud-storage-2.8.0\n",
            "Successfully installed google-cloud-storage-2.10.0\n"
          ]
        },
        {
          "output_type": "display_data",
          "data": {
            "application/vnd.colab-display-data+json": {
              "pip_warning": {
                "packages": [
                  "google"
                ]
              }
            }
          },
          "metadata": {}
        },
        {
          "output_type": "stream",
          "name": "stdout",
          "text": [
            "Collecting fpdf\n",
            "  Downloading fpdf-1.7.2.tar.gz (39 kB)\n",
            "  Preparing metadata (setup.py) ... \u001b[?25l\u001b[?25hdone\n",
            "Building wheels for collected packages: fpdf\n",
            "  Building wheel for fpdf (setup.py) ... \u001b[?25l\u001b[?25hdone\n",
            "  Created wheel for fpdf: filename=fpdf-1.7.2-py2.py3-none-any.whl size=40702 sha256=fcafe2fb1bd688859cc52443a354367f6ba1c106ffe5bbbc18f949e1a6b73f87\n",
            "  Stored in directory: /root/.cache/pip/wheels/f9/95/ba/f418094659025eb9611f17cbcaf2334236bf39a0c3453ea455\n",
            "Successfully built fpdf\n",
            "Installing collected packages: fpdf\n",
            "Successfully installed fpdf-1.7.2\n"
          ]
        }
      ],
      "source": [
        "!pip install --upgrade shapely\n",
        "!pip install --upgrade google-cloud-aiplatform # Vertex AI module\n",
        "!pip install --upgrade google-cloud-storage # Cloud Storage module\n",
        "!pip install --upgrade fpdf # Module to convert .txt to .pdf"
      ]
    },
    {
      "cell_type": "markdown",
      "source": [
        "# Libraries"
      ],
      "metadata": {
        "id": "J3APpr6eEkxI"
      }
    },
    {
      "cell_type": "code",
      "source": [
        "import vertexai\n",
        "import random\n",
        "from vertexai.preview.language_models import ChatModel, InputOutputTextPair\n",
        "from vertexai.language_models import TextGenerationModel"
      ],
      "metadata": {
        "id": "O6Vgr-HgPrVE"
      },
      "execution_count": null,
      "outputs": []
    },
    {
      "cell_type": "markdown",
      "source": [
        "# Generate Customer Scenario"
      ],
      "metadata": {
        "id": "Drtk7sDP76NS"
      }
    },
    {
      "cell_type": "code",
      "source": [
        "personas = ['impatient','dissatisfied','angry','frugal','clueless','defective object', 'feature request']\n",
        "areas = [\"Compute\", \"Storage\", \"Database\", \"Networking\", \"Big Data\", \"Machine Learning\", \"Internet of Things\", \"Serverless\", \"Security\", \"Management\"]\n",
        "\n",
        "selected_persona = random.choice(personas)\n",
        "selected_area = random.choice(areas)\n",
        "\n",
        "issue = f\"You are a {selected_persona} customer and you are experiencing a problem related to {selected_area} on Google Cloud. \\nWhen prompted, you will provide a detailed description of the problem you are facing, including any relevant context or issues you have encountered. \\nPlease note that you should keep the dialogue brief but conversational and ask questions to solve your issue.\"\n",
        "\n",
        "print(issue)"
      ],
      "metadata": {
        "id": "UuzbjcUIXdRf",
        "colab": {
          "base_uri": "https://localhost:8080/"
        },
        "outputId": "b370a180-a206-4819-fb33-6b7f8d9b1016"
      },
      "execution_count": null,
      "outputs": [
        {
          "output_type": "stream",
          "name": "stdout",
          "text": [
            "You are a feature request customer and you are experiencing a problem related to Compute on Google Cloud. \n",
            "When prompted, you will provide a detailed description of the problem you are facing, including any relevant context or issues you have encountered. \n",
            "Please note that you should keep the dialogue brief but conversational and ask questions to solve your issue.\n"
          ]
        }
      ]
    },
    {
      "cell_type": "markdown",
      "source": [
        "# Customer Interaction"
      ],
      "metadata": {
        "id": "WRDyC5d-CfBZ"
      }
    },
    {
      "cell_type": "markdown",
      "source": [
        "With the above context, kindly interact with the customer. Type exit or EXIT to stop interaction"
      ],
      "metadata": {
        "id": "ohoa0kG_7gDG"
      }
    },
    {
      "cell_type": "code",
      "source": [
        "# Initiate Vertex AI\n",
        "vertexai.init(project=PROJECT_ID, location=REGION)\n",
        "chat_model = ChatModel.from_pretrained(\"chat-bison@001\")\n",
        "parameters = {\n",
        "    \"temperature\": 0.5,\n",
        "    \"max_output_tokens\": 256,\n",
        "    \"top_p\": 0.8,\n",
        "    \"top_k\": 40\n",
        "}\n",
        "\n",
        "# Start Chat Model\n",
        "chat = chat_model.start_chat(context = issue)\n",
        "\n",
        "\n",
        "\n",
        "# Track converation\n",
        "conversation = \"\"\n",
        "while True:\n",
        "    user_input = input(\"Engineer: \")\n",
        "    if user_input.lower() == 'exit':\n",
        "        break\n",
        "\n",
        "    response = chat.send_message(user_input)\n",
        "    conversation += \"Engineer: \" + user_input + \"\\n\"\n",
        "    conversation += \"Customer: \" + str(response) + \"\\n\"\n",
        "    print(\"Customer: \" + str(response))\n",
        "\n",
        "print('##########')\n",
        "print(\"Conversation End\")\n",
        "\n"
      ],
      "metadata": {
        "colab": {
          "base_uri": "https://localhost:8080/"
        },
        "id": "py0o-xlSq8vw",
        "outputId": "50379610-9a68-407e-ed4a-c30bdd425d20"
      },
      "execution_count": null,
      "outputs": [
        {
          "output_type": "stream",
          "name": "stdout",
          "text": [
            "Engineer: my network is down. help\n",
            "Customer: I'm sorry to hear that your network is down. I can help you troubleshoot the issue. Can you tell me what kind of network you have?\n",
            "Engineer: I am unable to create a docketr build for my vertex ai workbench pipeline\n",
            "Customer: I'm sorry to hear that you're having trouble creating a Docker build for your Vertex AI Workbench pipeline. I can help you troubleshoot the issue. Can you tell me what steps you've taken so far?\n",
            "Engineer: exit\n",
            "##########\n",
            "Conversation End\n"
          ]
        }
      ]
    },
    {
      "cell_type": "markdown",
      "source": [
        "# Feedback"
      ],
      "metadata": {
        "id": "kwazy_itChXh"
      }
    },
    {
      "cell_type": "code",
      "source": [
        "model = TextGenerationModel.from_pretrained(\"text-bison@001\")\n",
        "response = model.predict(\n",
        "    f\"\"\"Provide constructive feedback to the Customer Engineer based on : {conversation}. Make a bulleted list of items for a. What went well ?, b. What could have been improved in this interaction? and c. Any additional tips\n",
        "\"\"\",\n",
        "    **parameters\n",
        ")\n",
        "feedback = response.text\n",
        "print(f\"Feedback from model: {feedback}\")\n",
        "\n",
        "# Work on customer feedback\n"
      ],
      "metadata": {
        "id": "evUUzfvhq-hU",
        "colab": {
          "base_uri": "https://localhost:8080/"
        },
        "outputId": "b04eb602-4f46-46cb-aff0-c04771803158"
      },
      "execution_count": null,
      "outputs": [
        {
          "output_type": "stream",
          "name": "stdout",
          "text": [
            "Feedback from model: **What went well:**\n",
            "* The customer engineer was polite and helpful.\n",
            "* The customer engineer was able to identify the issue and provide a solution.\n",
            "* The customer engineer was able to follow up with the engineer to ensure that the issue was resolved.\n",
            "\n",
            "**What could have been improved:**\n",
            "* The customer engineer could have been more proactive in asking questions to understand the engineer's issue.\n",
            "* The customer engineer could have provided more detailed instructions on how to troubleshoot the issue.\n",
            "* The customer engineer could have offered to help the engineer create a Docker build for their Vertex AI Workbench pipeline.\n",
            "\n",
            "**Additional tips:**\n",
            "* When troubleshooting a technical issue, it is important to be clear and concise in your communication.\n",
            "* It is also important to be patient and understanding.\n",
            "* If you are not sure how to help someone, it is always better to ask for help than to provide incorrect information.\n"
          ]
        }
      ]
    },
    {
      "cell_type": "markdown",
      "source": [
        "## Save Interaction as .pdf or .txt"
      ],
      "metadata": {
        "id": "Qc6mdRA4CjrJ"
      }
    },
    {
      "cell_type": "markdown",
      "source": [
        "Files will be saved locally"
      ],
      "metadata": {
        "id": "MltmwoHpQJfu"
      }
    },
    {
      "cell_type": "markdown",
      "source": [
        "### Save as TXT"
      ],
      "metadata": {
        "id": "vutS2tvBFVv-"
      }
    },
    {
      "cell_type": "code",
      "source": [
        "# Create a new text file using input from a \"conversation\" variable\n",
        "content = \" \"\n",
        "content += \"########## Issue ############\\n\" + issue + \"\\n\"\n",
        "content += \"\\n ########## Conversation ##########\\n\" + conversation + \"\\n\"\n",
        "content += \"\\n ############ Feedback ############\\n\" + feedback + \"\\n\"\n",
        "\n",
        "with open(FILENAME_TXT, \"w\") as f:\n",
        "    f.write(content)\n",
        "\n",
        "print(\"TXT Saved\")"
      ],
      "metadata": {
        "id": "OJqviuW1G_57",
        "colab": {
          "base_uri": "https://localhost:8080/"
        },
        "outputId": "a442d909-c5d9-4bf4-f115-05c6ac725dba"
      },
      "execution_count": null,
      "outputs": [
        {
          "output_type": "stream",
          "name": "stdout",
          "text": [
            "TXT Saved\n"
          ]
        }
      ]
    },
    {
      "cell_type": "markdown",
      "source": [
        "### Save as PDF"
      ],
      "metadata": {
        "id": "IoYmHv9gCZSC"
      }
    },
    {
      "cell_type": "code",
      "source": [
        "from fpdf import FPDF\n",
        "\n",
        "# Create a new PDF document\n",
        "pdf = FPDF()\n",
        "\n",
        "# Open the text file in read mode\n",
        "with open(FILENAME_TXT, \"r\") as f:\n",
        "    # Read the content from the file\n",
        "    content = f.read()\n",
        "\n",
        "# Add a page and set the font\n",
        "pdf.add_page()\n",
        "pdf.set_font('Arial', size=12)\n",
        "\n",
        "# Set the text color and insert the content into the PDF\n",
        "pdf.set_text_color(0, 0, 0)  # Black text color\n",
        "pdf.multi_cell(0, 10, txt=content)\n",
        "\n",
        "# Save the PDF file\n",
        "pdf.output(FILENAME_PDF)\n",
        "\n",
        "print(\"PDF Saved\")"
      ],
      "metadata": {
        "colab": {
          "base_uri": "https://localhost:8080/"
        },
        "id": "33d0vdvsFaN-",
        "outputId": "3004a861-a3cb-46d9-c47d-faa78b620f60"
      },
      "execution_count": null,
      "outputs": [
        {
          "output_type": "stream",
          "name": "stdout",
          "text": [
            "PDF Saved\n"
          ]
        }
      ]
    },
    {
      "cell_type": "markdown",
      "source": [
        "## Write to Cloud Bucket"
      ],
      "metadata": {
        "id": "xR-NkVZjIm9f"
      }
    },
    {
      "cell_type": "markdown",
      "source": [
        "Kindly view `gencapcss` bucket to see files"
      ],
      "metadata": {
        "id": "VaNBdqn0QBhM"
      }
    },
    {
      "cell_type": "markdown",
      "source": [
        "### Save PDF"
      ],
      "metadata": {
        "id": "zw2MndWVpwT4"
      }
    },
    {
      "cell_type": "code",
      "source": [
        "import os\n",
        "from google.cloud import storage\n",
        "\n",
        "# Get the bucket name\n",
        "bucket_name = BUCKET\n",
        "\n",
        "# Create a storage client\n",
        "client = storage.Client()\n",
        "\n",
        "# Create a blob object\n",
        "blob = client.bucket(bucket_name).blob(FILENAME_PDF)\n",
        "\n",
        "# Upload the file\n",
        "blob.upload_from_filename(FILENAME_PDF)\n",
        "print(\"PDF Uploaded to Bucket\")\n"
      ],
      "metadata": {
        "id": "Hs8RN6S5JPvO",
        "colab": {
          "base_uri": "https://localhost:8080/"
        },
        "outputId": "b8adf0e3-83b6-42b9-af03-08f03c0bc95a"
      },
      "execution_count": null,
      "outputs": [
        {
          "output_type": "stream",
          "name": "stdout",
          "text": [
            "PDF Uploaded to Bucket\n"
          ]
        }
      ]
    },
    {
      "cell_type": "markdown",
      "source": [
        "### Save TXT"
      ],
      "metadata": {
        "id": "IUFZYWhUpsBl"
      }
    },
    {
      "cell_type": "code",
      "source": [
        "# Create a blob object\n",
        "blob = client.bucket(bucket_name).blob(FILENAME_TXT)\n",
        "\n",
        "# Upload the file\n",
        "blob.upload_from_filename(FILENAME_TXT)\n",
        "print(\"TXT Uploaded to Bucket\")"
      ],
      "metadata": {
        "colab": {
          "base_uri": "https://localhost:8080/"
        },
        "id": "JUrSe7tUMqmG",
        "outputId": "696e8ba3-f807-488a-f889-104b462e3f5d"
      },
      "execution_count": null,
      "outputs": [
        {
          "output_type": "stream",
          "name": "stdout",
          "text": [
            "TXT Uploaded to Bucket\n"
          ]
        }
      ]
    }
  ]
}